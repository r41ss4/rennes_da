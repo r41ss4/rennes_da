


import pandas as pd
df=pd.read_csv('https://raw.githubusercontent.com/r41ss4/rennes_da/refs/heads/main/data/merged/merged_df.csv')





from sklearn.model_selection import train_test_split
from sklearn.preprocessing import OneHotEncoder, StandardScaler
from sklearn.compose import ColumnTransformer
from sklearn.pipeline import Pipeline
from sklearn.metrics import mean_squared_error, r2_score


# Target and Features
target = 'price'
X = df.drop(columns=[target])
y = df[target]


# Train-Test Split
X_train, X_test, y_train, y_test = train_test_split(X, y, test_size=0.2, random_state=42)


# Preprocessing
categorical_cols = ['airline', 'source_city', 'destination_city', 'departure_time', 
                    'arrival_time', 'specific_stops', 'general_stops', 'class']
numerical_cols = ['duration']


categorical_transformer = OneHotEncoder(handle_unknown='ignore')
numerical_transformer = StandardScaler()

preprocessor = ColumnTransformer(
    transformers=[
        ('num', numerical_transformer, numerical_cols),
        ('cat', categorical_transformer, categorical_cols)
    ]
)





from sklearn.linear_model import LinearRegression
from sklearn.ensemble import RandomForestRegressor
from sklearn.model_selection import GridSearchCV


# Linear Regression Model
lr_model = Pipeline(steps=[
    ('preprocessor', preprocessor),
    ('regressor', LinearRegression())
])


# Random Forest Model with Hyperparameter Tuning
rf_model = Pipeline(steps=[
    ('preprocessor', preprocessor),
    ('regressor', RandomForestRegressor(random_state=42))
])


rf_param_grid = {
    'regressor__n_estimators': [50, 100],
    'regressor__max_depth': [10, 20, None],
    'regressor__min_samples_split': [2, 5],
}
rf_grid_search = GridSearchCV(rf_model, rf_param_grid, cv=3, scoring='neg_mean_squared_error')





# Train Linear Regression
lr_model.fit(X_train, y_train)


# Train and Tune Random Forest
rf_grid_search.fit(X_train, y_train)


# Best Random Forest Model
best_rf_model = rf_grid_search.best_estimator_





lr_preds = lr_model.predict(X_test)
lr_preds


rf_preds = best_rf_model.predict(X_test)
rf_preds


lr_rmse = mean_squared_error(y_test, lr_preds, squared=False)
rf_rmse = mean_squared_error(y_test, rf_preds, squared=False)

lr_r2 = r2_score(y_test, lr_preds)
rf_r2 = r2_score(y_test, rf_preds)

print(f"Linear Regression RMSE: {lr_rmse}, R^2: {lr_r2}")
print(f"Random Forest RMSE: {rf_rmse}, R^2: {rf_r2}")
print(f"Best Random Forest Parameters: {rf_grid_search.best_params_}")








import matplotlib.pyplot as plt
import seaborn as sns

# Scatter plot
plt.figure(figsize=(8, 6))
sns.scatterplot(x=y_test, y=rf_preds)
plt.xlabel("Actual Prices")
plt.ylabel("Predicted Prices")
plt.title("Actual vs. Predicted Prices")
plt.show()


plt.figure(figsize=(8, 6))
sns.scatterplot(x=y_test, y=lr_preds)
plt.xlabel("Actual Prices")
plt.ylabel("Predicted Prices")
plt.title("Actual vs. Predicted Prices")
plt.show()



