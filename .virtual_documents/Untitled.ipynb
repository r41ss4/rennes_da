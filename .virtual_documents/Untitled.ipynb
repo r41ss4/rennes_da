


# Import libs
import pandas as pd
import numpy as np


# Read database 1 
data_f1 = pd.read_csv("data_f1.csv")



# General data_f1 view
data_f1.head(3)


# Review data_f1 information 
data_f1.shape


# Review data_f1 columns 
data_f1.columns


# Review data_f1 general information
data_f1.info()


# Review the data and how many rows have missing information in each columns
data_f1.isna().sum()


# Read database 2
data_f2 = pd.read_csv("data_f2.csv")


# General data_f1 view
data_f2.head(3)


# Review data_f1 general information
data_f2.info()


# Review the data and how many rows have missing information in each columns
data_f1.isna().sum()



