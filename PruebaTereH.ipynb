{
 "cells": [
  {
   "cell_type": "code",
   "execution_count": null,
   "id": "f51d2172-47a1-497b-bcf3-a4f95cea7450",
   "metadata": {},
   "outputs": [],
   "source": [
    "#Hola\n"
   ]
  }
 ],
 "metadata": {
  "kernelspec": {
   "display_name": "Python 3 (ipykernel)",
   "language": "python",
   "name": "python3"
  },
  "language_info": {
   "codemirror_mode": {
    "name": "ipython",
    "version": 3
   },
   "file_extension": ".py",
   "mimetype": "text/x-python",
   "name": "python",
   "nbconvert_exporter": "python",
   "pygments_lexer": "ipython3",
   "version": "3.12.4"
  }
 },
 "nbformat": 4,
 "nbformat_minor": 5
}
